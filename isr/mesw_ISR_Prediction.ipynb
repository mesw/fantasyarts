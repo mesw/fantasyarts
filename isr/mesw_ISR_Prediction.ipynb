{
  "nbformat": 4,
  "nbformat_minor": 0,
  "metadata": {
    "colab": {
      "name": "mesw -  ISR Prediction.ipynb",
      "private_outputs": true,
      "provenance": [],
      "collapsed_sections": []
    },
    "kernelspec": {
      "name": "python3",
      "display_name": "Python 3"
    },
    "language_info": {
      "name": "python"
    }
  },
  "cells": [
    {
      "cell_type": "markdown",
      "metadata": {
        "id": "jtp1ik-yiOxl"
      },
      "source": [
        "# IMAGE SUPER RESOLUTION\n",
        "This notebook can be used to upscale (enhance) low resolution images.\n",
        "For example, this can be used to upscale images created with VQGAN+STEP.\n",
        "\n",
        "Follow the inscructions below to execute the notebook.\n"
      ]
    },
    {
      "cell_type": "markdown",
      "metadata": {
        "id": "QJ4sSTzDWAao"
      },
      "source": [
        "# You can use a CPU instance. No need for GPU!\n",
        "\n",
        "This notebook is based on https://colab.research.google.com/github/idealo/image-super-resolution/blob/master/notebooks/ISR_Prediction_Tutorial.ipynb [![Google Colab](https://colab.research.google.com/assets/colab-badge.svg)](https://colab.research.google.com/github/idealo/image-super-resolution/blob/master/notebooks/ISR_Prediction_Tutorial.ipynb)\n",
        "\n",
        "Special thanks to: \n",
        "https://idealo.github.io/image-super-resolution/ for providing ISR\n",
        "and thanks to Google Colab for providing a place to run this notebook.\n"
      ]
    },
    {
      "cell_type": "code",
      "metadata": {
        "id": "A-WaFwoClHg6"
      },
      "source": [
        "!pip install 'h5py==2.10.0' --force-reinstall"
      ],
      "execution_count": null,
      "outputs": []
    },
    {
      "cell_type": "markdown",
      "metadata": {
        "id": "C5-yTamQ9PWr"
      },
      "source": [
        "# Restart the runtime with the button that is displayed above and continue with the next cell after restart."
      ]
    },
    {
      "cell_type": "code",
      "metadata": {
        "id": "KCd2ZuS4V6Z0"
      },
      "source": [
        "!pip3 install ISR"
      ],
      "execution_count": null,
      "outputs": []
    },
    {
      "cell_type": "code",
      "metadata": {
        "id": "vAaXhTNxlGbm",
        "cellView": "form"
      },
      "source": [
        "# @markdown # Mount your google drive! ... or not\n",
        "\n",
        "mount_gdrive = True #@param {type:\"boolean\"}\n",
        "if mount_gdrive:\n",
        "  from google.colab import drive\n",
        "  drive.mount('/content/drive')\n"
      ],
      "execution_count": null,
      "outputs": []
    },
    {
      "cell_type": "code",
      "metadata": {
        "id": "V6rTVSz6-V1u"
      },
      "source": [
        "# @markdown # Select the model(s) for ISR\n",
        "# @markdown if more than one model is selected, all of the selected models will be downloaded and used\n",
        "\n",
        "\n",
        "import numpy as np\n",
        "from PIL import Image\n",
        "import os\n",
        "from ISR.models import RDN, RRDN\n",
        "\n",
        "noise_cancel = True #@param {type:\"boolean\"}\n",
        "gans = False #@param {type:\"boolean\"}\n",
        "psnr_small = False #@param {type:\"boolean\"}\n",
        "psnr_large = False #@param {type:\"boolean\"}\n",
        "\n",
        "models = { }\n",
        "if noise_cancel:\n",
        "  models['noise-cancel'] = RDN(weights='noise-cancel')\n",
        "if gans:\n",
        "  models['gans'] = RRDN(weights='gans')\n",
        "if psnr_small:\n",
        "  models['psnr-small'] = RDN(weights='psnr-small')\n",
        "if psnr_large:\n",
        "  models['psnr-large'] = RDN(weights='psnr-large')\n"
      ],
      "execution_count": null,
      "outputs": []
    },
    {
      "cell_type": "code",
      "metadata": {
        "id": "zaLQC-rXoxhU"
      },
      "source": [
        "!ls '/content/drive/MyDrive/ISR-output/' | wc -l"
      ],
      "execution_count": null,
      "outputs": []
    },
    {
      "cell_type": "code",
      "metadata": {
        "id": "hCZfkvojYwbY"
      },
      "source": [
        "# @markdown # Enhance !!1!\n",
        "\n",
        "# @markdown ## select input and output folders\n",
        "\n",
        "input_directory = '/content/drive/MyDrive/ISR-input/' #@param {type:\"string\"}\n",
        "output_directory = '/content/drive/MyDrive/ISR-output/' #@param {type:\"string\"}\n",
        "!mkdir -p {input_directory}\n",
        "!mkdir -p {output_directory}\n",
        "\n",
        "\n",
        "imagecounter = 0\n",
        "\n",
        "# @markdown ## select one or more enhancements. \n",
        "enhancements = 2 #@param {type:\"slider\", min:1, max:5, step:1}\n",
        "# @markdown Careful, the image size is quadrupled with each enhancement.\n",
        "\n",
        "print(\"number of files in input folder:\")\n",
        "!ls -l {input_directory} | wc -l\n",
        "\n",
        "for model_name in models.keys():\n",
        "  print(\"model: \" + model_name)\n",
        "  for filename in os.listdir(input_directory):\n",
        "      if filename.endswith(\".jpg\") or filename.endswith(\".png\"):\n",
        "\n",
        "          if  imagecounter < 2598: # for skipping already processed images, when colab kicks you out\n",
        "            imagecounter+=1\n",
        "            continue\n",
        "\n",
        "          print(\"input: \" + os.path.join(input_directory, filename))\n",
        "          imagepath = (os.path.join(input_directory, filename))\n",
        "          image = Image.open(imagepath)\n",
        "\n",
        "          for enhancement in range(enhancements):\n",
        "            print(\"enhancement:\" + str(enhancement+1) + \" of \" + str(enhancements))\n",
        "            sr_img = models[model_name].predict(np.array(image))\n",
        "            image = Image.fromarray(sr_img)\n",
        "          \n",
        "          output_filename = (os.path.join(output_directory, filename))  + \"_\" + model_name + \"_x\" + str(enhancements) + \"_ISR.jpg\"\n",
        "          print(\"output: \" + output_filename)\n",
        "          image.save(output_filename)\n",
        "\n",
        "          imagecounter+=1\n",
        "          print(imagecounter)\n",
        "\n",
        "\n",
        "# @markdown # Do not forget to move your input images to the input folder!\n",
        "\n"
      ],
      "execution_count": null,
      "outputs": []
    },
    {
      "cell_type": "code",
      "metadata": {
        "id": "nXoKQ8kw_Hgq"
      },
      "source": [
        ""
      ],
      "execution_count": null,
      "outputs": []
    },
    {
      "cell_type": "code",
      "metadata": {
        "id": "JpHCnVHCCGdG"
      },
      "source": [
        ""
      ],
      "execution_count": null,
      "outputs": []
    },
    {
      "cell_type": "code",
      "metadata": {
        "id": "eMvn5F5kYN_B"
      },
      "source": [
        ""
      ],
      "execution_count": null,
      "outputs": []
    },
    {
      "cell_type": "code",
      "metadata": {
        "id": "1LW_bthYYybe"
      },
      "source": [
        ""
      ],
      "execution_count": null,
      "outputs": []
    }
  ]
}